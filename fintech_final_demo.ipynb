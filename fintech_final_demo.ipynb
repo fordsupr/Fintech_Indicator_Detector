{
  "cells": [
    {
      "cell_type": "code",
      "execution_count": null,
      "metadata": {},
      "outputs": [],
      "source": [
        "# 安裝富果行情 API 套件\n",
        "# !pip install fugle-marketdata -U -q\n",
        "# 更改時區用\n",
        "# !pip install pytz\n",
        "# 定時執行用\n",
        "# !pip install schedule\n",
        "\n",
        "# 安裝 linetool 套件\n",
        "# !pip install linetool -q\n",
        "\n",
        "# 載入相關套件\n",
        "# !pip install fugle_realtime"
      ]
    },
    {
      "cell_type": "code",
      "execution_count": null,
      "metadata": {
        "colab": {
          "base_uri": "https://localhost:8080/"
        },
        "id": "fZymQAtRuAjW",
        "outputId": "1d588f69-ca10-42b3-a4ca-1efaf0e4c5fc"
      },
      "outputs": [
        {
          "name": "stdout",
          "output_type": "stream",
          "text": [
            "Requirement already satisfied: pytz in /usr/local/lib/python3.10/dist-packages (2023.3.post1)\n",
            "Collecting schedule\n",
            "  Downloading schedule-1.2.1-py2.py3-none-any.whl (11 kB)\n",
            "Installing collected packages: schedule\n",
            "Successfully installed schedule-1.2.1\n",
            "  Preparing metadata (setup.py) ... \u001b[?25l\u001b[?25hdone\n",
            "  Building wheel for linetool (setup.py) ... \u001b[?25l\u001b[?25hdone\n",
            "  % Total    % Received % Xferd  Average Speed   Time    Time     Time  Current\n",
            "                                 Dload  Upload   Total   Spent    Left  Speed\n",
            "100  4445    0  4445    0     0  11827      0 --:--:-- --:--:-- --:--:-- 11853\n",
            "100  517k  100  517k    0     0   473k      0  0:00:01  0:00:01 --:--:-- 1695k\n",
            "  % Total    % Received % Xferd  Average Speed   Time    Time     Time  Current\n",
            "                                 Dload  Upload   Total   Spent    Left  Speed\n",
            "100  4509    0  4509    0     0  17655      0 --:--:-- --:--:-- --:--:-- 17682\n",
            "100  392k  100  392k    0     0   429k      0 --:--:-- --:--:-- --:--:-- 1075k\n",
            "Collecting fugle_realtime\n",
            "  Downloading fugle_realtime-0.4.2-py3-none-any.whl (6.8 kB)\n",
            "Requirement already satisfied: requests<3.0.0,>=2.26.0 in /usr/local/lib/python3.10/dist-packages (from fugle_realtime) (2.31.0)\n",
            "Requirement already satisfied: websocket-client<2.0.0,>=1.2.1 in /usr/local/lib/python3.10/dist-packages (from fugle_realtime) (1.7.0)\n",
            "Requirement already satisfied: charset-normalizer<4,>=2 in /usr/local/lib/python3.10/dist-packages (from requests<3.0.0,>=2.26.0->fugle_realtime) (3.3.2)\n",
            "Requirement already satisfied: idna<4,>=2.5 in /usr/local/lib/python3.10/dist-packages (from requests<3.0.0,>=2.26.0->fugle_realtime) (3.6)\n",
            "Requirement already satisfied: urllib3<3,>=1.21.1 in /usr/local/lib/python3.10/dist-packages (from requests<3.0.0,>=2.26.0->fugle_realtime) (2.0.7)\n",
            "Requirement already satisfied: certifi>=2017.4.17 in /usr/local/lib/python3.10/dist-packages (from requests<3.0.0,>=2.26.0->fugle_realtime) (2023.11.17)\n",
            "Installing collected packages: fugle_realtime\n",
            "Successfully installed fugle_realtime-0.4.2\n"
          ]
        }
      ],
      "source": [
        "#安裝指標函式庫\n",
        "url = 'https://anaconda.org/conda-forge/libta-lib/0.4.0/download/linux-64/libta-lib-0.4.0-h166bdaf_1.tar.bz2'\n",
        "!curl -L $url | tar xj -C /usr/lib/x86_64-linux-gnu/ lib --strip-components=1\n",
        "url = 'https://anaconda.org/conda-forge/ta-lib/0.4.19/download/linux-64/ta-lib-0.4.19-py310hde88566_4.tar.bz2'\n",
        "!curl -L $url | tar xj -C /usr/local/lib/python3.10/dist-packages/ lib/python3.10/site-packages/talib --strip-components=3\n",
        "\n",
        "# 載入相關套件\n",
        "import matplotlib.pyplot as plt\n",
        "from datetime import timedelta\n",
        "import pandas as pd\n",
        "import numpy as np\n",
        "import requests\n",
        "import json\n",
        "import time\n",
        "from configparser import ConfigParser\n",
        "from fugle_realtime import (HttpClient, WebSocketClient)\n",
        "\n",
        "\n",
        "# 載入套件\n",
        "import talib\n",
        "from fugle_marketdata import WebSocketClient, RestClient\n",
        "import pandas as pd"
      ]
    },
    {
      "cell_type": "code",
      "execution_count": null,
      "metadata": {
        "id": "MOB_coVEv6iO"
      },
      "outputs": [],
      "source": [
        "# API Key 可至金鑰申請與管理頁的行情 API 區申請：https://developer.fugle.tw/docs/key/\n",
        "client = RestClient(api_key = 'OGNkNGViMDUtZWE2Ni00YzE2LTk4MTctODg1YzBlZTM0MGVkIGI4YjA2NjExLWM5ODAtNDk0NC1iZTZiLWIwYzU4MjI4Zjc4ZQ==')\n",
        "stock = client.stock  # Stock REST API client"
      ]
    },
    {
      "cell_type": "markdown",
      "metadata": {
        "id": "BqmicShLC8zA"
      },
      "source": [
        "# macd_timely() 即時策略監測\n"
      ]
    },
    {
      "cell_type": "code",
      "execution_count": null,
      "metadata": {
        "id": "jtCpHc1W9Psq"
      },
      "outputs": [],
      "source": [
        "import pandas as pd\n",
        "from datetime import datetime\n",
        "\n",
        "import talib\n",
        "import pandas as pd\n",
        "import time\n",
        "from fugle_marketdata import RestClient\n",
        "from datetime import datetime\n",
        "import pytz\n",
        "\n",
        "api_key = 'OGNkNGViMDUtZWE2Ni00YzE2LTk4MTctODg1YzBlZTM0MGVkIGI4YjA2NjExLWM5ODAtNDk0NC1iZTZiLWIwYzU4MjI4Zjc4ZQ=='\n",
        "client = RestClient(api_key=api_key)\n",
        "stock = client.stock\n",
        "\n",
        "# 設置台北時區\n",
        "taipei_tz = pytz.timezone('Asia/Taipei')\n",
        "\n",
        "\n",
        "\n",
        "\n",
        "def macd_timely():\n",
        "  # 獲取股票數據\n",
        "  stock_latest = stock.intraday.candles(symbol='2330', timeframe='1')\n",
        "  stock_data = pd.DataFrame(stock_latest['data'])\n",
        "\n",
        "  # 建立一個macd_signal空dataframe\n",
        "  columns = ['Signal', 'DIFF', 'DEA', 'macd']\n",
        "  macd_signal = pd.DataFrame(columns=columns)\n",
        "\n",
        "\n",
        "\n",
        "  # 獲取當前的台北時間\n",
        "  taipei_time = datetime.now(taipei_tz)\n",
        "  time_message = taipei_time.strftime(\"台北時間: %Y-%m-%d %H:%M:%S\")\n",
        "\n",
        "  #再用ta-lib函式庫去做macd指標\n",
        "  # 計算 MACD\n",
        "  macd, signal, hist = talib.MACD(stock_data['close'], fastperiod=5, slowperiod=10, signalperiod=9)\n",
        "\n",
        "  macd_signal['Signal'] = \"0\"\n",
        "  macd_signal['DIFF'] = macd #macd對應diff\n",
        "  macd_signal['DEA'] = signal #macdsignal（对应dea）\n",
        "  macd_signal['macd'] = hist\n",
        "\n",
        "\n",
        "\n",
        "  #凡事只要檢查最新的即可(活在當下)\n",
        "  i = len(macd_signal)-1\n",
        "  j = len(stock_data)-1\n",
        "\n",
        "  if macd_signal['DIFF'][i] > macd_signal['DEA'][i] and macd_signal['DIFF'][i-1] <= macd_signal['DEA'][i-1] and macd_signal['DIFF'][i] > 0 and macd_signal['DEA'][i] > 0:\n",
        "\n",
        "      macd_signal['Signal'][i] = '黃金交叉出現!'\n",
        "      return_message = \"目前收盤價:\"+ str(stock_data['close'][j])+'黃金交叉出現!'\n",
        "      combined_message = f\"{time_message},{return_message}\"\n",
        "      #print(macd_signal['DIFF'][i], macd_signal['DEA'][i],\"黃金交叉出現!\")\n",
        "\n",
        "\n",
        "  elif macd_signal['DIFF'][i] < macd_signal['DEA'][i] and macd_signal['DIFF'][i-1] >= macd_signal['DEA'][i-1] and macd_signal['DIFF'][i] < 0 and macd_signal['DEA'][i] < 0:\n",
        "\n",
        "      macd_signal['Signal'][i] = '死亡交叉出沒><!'\n",
        "      return_message = \"目前收盤價:\"+ str(stock_data['close'][j])+'死亡交叉出現!'\n",
        "      combined_message = f\"{time_message},{return_message}\"\n",
        "      print(macd_signal['DIFF'][i], macd_signal['DEA'][i],\"死亡交叉出沒><!\")\n",
        "  else:\n",
        "      return_message = \"目前收盤價:\"+ str(stock_data['close'][j])+\" 目前macd這邊沒事\"\n",
        "      combined_message = f\"{time_message},{return_message}\"\n",
        "\n",
        "  return combined_message"
      ]
    },
    {
      "cell_type": "code",
      "execution_count": null,
      "metadata": {
        "colab": {
          "base_uri": "https://localhost:8080/"
        },
        "id": "CrDi7xIGElI4",
        "outputId": "f3c2cbc3-c98a-4e9e-fd6e-63b54eb50537"
      },
      "outputs": [
        {
          "name": "stdout",
          "output_type": "stream",
          "text": [
            "台北時間: 2023-12-23 21:41:26,目前收盤價:582黃金交叉出現!\n"
          ]
        },
        {
          "name": "stderr",
          "output_type": "stream",
          "text": [
            "<ipython-input-3-6ce8aa0ad9ae>:53: SettingWithCopyWarning: \n",
            "A value is trying to be set on a copy of a slice from a DataFrame\n",
            "\n",
            "See the caveats in the documentation: https://pandas.pydata.org/pandas-docs/stable/user_guide/indexing.html#returning-a-view-versus-a-copy\n",
            "  macd_signal['Signal'][i] = '黃金交叉出現!'\n"
          ]
        }
      ],
      "source": [
        "#testing\n",
        "print(macd_timely())"
      ]
    },
    {
      "cell_type": "code",
      "execution_count": null,
      "metadata": {
        "id": "Oosc5lU15PbV"
      },
      "outputs": [],
      "source": [
        "def bollinger_bands_timely():\n",
        "    # 獲取股票數據\n",
        "    stock_latest = stock.intraday.candles(symbol='2330', timeframe='1')\n",
        "    stock_data = pd.DataFrame(stock_latest['data'])\n",
        "\n",
        "    # 建立一個布林通道上軌的空 dataframe\n",
        "    columns = ['Upper', 'Middle', 'Lower', 'Close']\n",
        "    bbands_signal = pd.DataFrame(columns=columns)\n",
        "\n",
        "    # 獲取當前的台北時間\n",
        "    taipei_time = datetime.now(taipei_tz)\n",
        "    time_message = taipei_time.strftime(\"台北時間: %Y-%m-%d %H:%M:%S\")\n",
        "\n",
        "    # 計算布林通道\n",
        "    upper, middle, lower = talib.BBANDS(stock_data['close'], timeperiod=20, nbdevup=2, nbdevdn=2)\n",
        "\n",
        "    bbands_signal['Upper'] = upper\n",
        "    bbands_signal['Middle'] = middle\n",
        "    bbands_signal['Lower'] = lower\n",
        "    bbands_signal['Close'] = stock_data['close']\n",
        "\n",
        "    # 檢查最新的值\n",
        "    i = len(bbands_signal) - 1\n",
        "    j = len(stock_data) - 1\n",
        "\n",
        "    if stock_data['close'][j] > bbands_signal['Upper'][i]:\n",
        "        signal_message = '價格超過布林通道上軌！'\n",
        "    elif stock_data['close'][j] < bbands_signal['Lower'][i]:\n",
        "        signal_message = '價格低於布林通道下軌！'\n",
        "    else:\n",
        "        signal_message = '價格在布林通道範圍內。'\n",
        "\n",
        "    return_message = signal_message\n",
        "    return return_message\n"
      ]
    },
    {
      "cell_type": "code",
      "execution_count": null,
      "metadata": {
        "colab": {
          "base_uri": "https://localhost:8080/"
        },
        "id": "lCx6fe5o6O_d",
        "outputId": "8ebe21ed-583b-4b97-f1c7-e115b3e3e1b8"
      },
      "outputs": [
        {
          "name": "stdout",
          "output_type": "stream",
          "text": [
            "價格超過布林通道上軌！\n"
          ]
        }
      ],
      "source": [
        "#testing\n",
        "print(bollinger_bands_timely())"
      ]
    },
    {
      "cell_type": "code",
      "execution_count": null,
      "metadata": {
        "id": "D-FAavQK5P2U"
      },
      "outputs": [],
      "source": [
        "def rsi_timely():\n",
        "    # 獲取股票數據\n",
        "    stock_latest = stock.intraday.candles(symbol='2330', timeframe='1')\n",
        "    stock_data = pd.DataFrame(stock_latest['data'])\n",
        "    # 計算 RSI\n",
        "    rsi_period = 14\n",
        "    stock_data['rsi'] = talib.RSI(stock_data['close'], timeperiod=rsi_period)\n",
        "\n",
        "    # 獲取當前的台北時間\n",
        "    taipei_time = datetime.now(taipei_tz)\n",
        "    time_message = taipei_time.strftime(\"台北時間: %Y-%m-%d %H:%M:%S\")\n",
        "\n",
        "    # 檢查 RSI 信號\n",
        "    i = len(stock_data) - 1\n",
        "    j = len(stock_data) - 1\n",
        "\n",
        "    if stock_data['rsi'][i] > 70:\n",
        "        signal_message = '超買信號！'\n",
        "    elif stock_data['rsi'][i] < 30:\n",
        "        signal_message = '超賣信號！'\n",
        "    else:\n",
        "        signal_message = '目前 RSI 無信號變動。'\n",
        "\n",
        "\n",
        "    return signal_message\n"
      ]
    },
    {
      "cell_type": "code",
      "execution_count": null,
      "metadata": {
        "colab": {
          "base_uri": "https://localhost:8080/"
        },
        "id": "oIoSEWZa6TJ0",
        "outputId": "caef6fdc-4543-4264-f071-c4ff9785bb0e"
      },
      "outputs": [
        {
          "name": "stdout",
          "output_type": "stream",
          "text": [
            "目前 RSI 無信號變動。\n"
          ]
        }
      ],
      "source": [
        "#testing\n",
        "print(rsi_timely())"
      ]
    },
    {
      "cell_type": "markdown",
      "metadata": {
        "id": "H21evAZA6au8"
      },
      "source": [
        "## 🎁三策略融合"
      ]
    },
    {
      "cell_type": "code",
      "execution_count": null,
      "metadata": {
        "id": "6PEiS9EE6W1D"
      },
      "outputs": [],
      "source": [
        "def tripleStrategy():\n",
        "  macd = macd_timely()\n",
        "  rsi = rsi_timely()\n",
        "  boollinger = bollinger_bands_timely()\n",
        "  final_signal = macd + \"\\n\" + rsi +\"\\n\"+ boollinger\n",
        "  return final_signal"
      ]
    },
    {
      "cell_type": "code",
      "execution_count": null,
      "metadata": {
        "colab": {
          "base_uri": "https://localhost:8080/"
        },
        "id": "xk_msOGZ7ivd",
        "outputId": "fcecb1d9-62ff-4ae6-dedf-f0cb631be9fa"
      },
      "outputs": [
        {
          "name": "stderr",
          "output_type": "stream",
          "text": [
            "<ipython-input-3-6ce8aa0ad9ae>:61: SettingWithCopyWarning: \n",
            "A value is trying to be set on a copy of a slice from a DataFrame\n",
            "\n",
            "See the caveats in the documentation: https://pandas.pydata.org/pandas-docs/stable/user_guide/indexing.html#returning-a-view-versus-a-copy\n",
            "  macd_signal['Signal'][i] = '死亡交叉出沒><!'\n"
          ]
        },
        {
          "name": "stdout",
          "output_type": "stream",
          "text": [
            "-0.12385451067189024 -0.039058600397439115 死亡交叉出沒><!\n",
            "台北時間: 2023-12-28 09:59:22,目前收盤價:591死亡交叉出現!\n",
            "目前 RSI 無信號變動。\n",
            "價格低於布林通道下軌！\n"
          ]
        }
      ],
      "source": [
        "#testing\n",
        "print(tripleStrategy())"
      ]
    },
    {
      "cell_type": "markdown",
      "metadata": {
        "id": "bN267Vo9KD4x"
      },
      "source": [
        "# Line notify串接"
      ]
    },
    {
      "cell_type": "code",
      "execution_count": null,
      "metadata": {
        "colab": {
          "base_uri": "https://localhost:8080/",
          "height": 388
        },
        "id": "WCCPdU62CnhR",
        "outputId": "01810bfe-ec78-4326-ccc1-ec166540f602"
      },
      "outputs": [
        {
          "ename": "KeyboardInterrupt",
          "evalue": "ignored",
          "output_type": "error",
          "traceback": [
            "\u001b[0;31m---------------------------------------------------------------------------\u001b[0m",
            "\u001b[0;31mKeyboardInterrupt\u001b[0m                         Traceback (most recent call last)",
            "\u001b[0;32m<ipython-input-9-55d52461aa84>\u001b[0m in \u001b[0;36m<cell line: 29>\u001b[0;34m()\u001b[0m\n\u001b[1;32m     28\u001b[0m \u001b[0;34m\u001b[0m\u001b[0m\n\u001b[1;32m     29\u001b[0m \u001b[0;32mwhile\u001b[0m \u001b[0;32mTrue\u001b[0m\u001b[0;34m:\u001b[0m\u001b[0;34m\u001b[0m\u001b[0;34m\u001b[0m\u001b[0m\n\u001b[0;32m---> 30\u001b[0;31m     \u001b[0mschedule\u001b[0m\u001b[0;34m.\u001b[0m\u001b[0mrun_pending\u001b[0m\u001b[0;34m(\u001b[0m\u001b[0;34m)\u001b[0m\u001b[0;34m\u001b[0m\u001b[0;34m\u001b[0m\u001b[0m\n\u001b[0m\u001b[1;32m     31\u001b[0m     \u001b[0mtime\u001b[0m\u001b[0;34m.\u001b[0m\u001b[0msleep\u001b[0m\u001b[0;34m(\u001b[0m\u001b[0;36m1\u001b[0m\u001b[0;34m)\u001b[0m\u001b[0;34m\u001b[0m\u001b[0;34m\u001b[0m\u001b[0m\n",
            "\u001b[0;32m/usr/local/lib/python3.10/dist-packages/schedule/__init__.py\u001b[0m in \u001b[0;36mrun_pending\u001b[0;34m()\u001b[0m\n\u001b[1;32m    820\u001b[0m     \u001b[0;34m:\u001b[0m\u001b[0mdata\u001b[0m\u001b[0;34m:\u001b[0m\u001b[0;31m`\u001b[0m\u001b[0mdefault\u001b[0m \u001b[0mscheduler\u001b[0m \u001b[0minstance\u001b[0m \u001b[0;34m<\u001b[0m\u001b[0mdefault_scheduler\u001b[0m\u001b[0;34m>\u001b[0m\u001b[0;31m`\u001b[0m\u001b[0;34m.\u001b[0m\u001b[0;34m\u001b[0m\u001b[0;34m\u001b[0m\u001b[0m\n\u001b[1;32m    821\u001b[0m     \"\"\"\n\u001b[0;32m--> 822\u001b[0;31m     \u001b[0mdefault_scheduler\u001b[0m\u001b[0;34m.\u001b[0m\u001b[0mrun_pending\u001b[0m\u001b[0;34m(\u001b[0m\u001b[0;34m)\u001b[0m\u001b[0;34m\u001b[0m\u001b[0;34m\u001b[0m\u001b[0m\n\u001b[0m\u001b[1;32m    823\u001b[0m \u001b[0;34m\u001b[0m\u001b[0m\n\u001b[1;32m    824\u001b[0m \u001b[0;34m\u001b[0m\u001b[0m\n",
            "\u001b[0;32m/usr/local/lib/python3.10/dist-packages/schedule/__init__.py\u001b[0m in \u001b[0;36mrun_pending\u001b[0;34m(self)\u001b[0m\n\u001b[1;32m     98\u001b[0m         \u001b[0mrunnable_jobs\u001b[0m \u001b[0;34m=\u001b[0m \u001b[0;34m(\u001b[0m\u001b[0mjob\u001b[0m \u001b[0;32mfor\u001b[0m \u001b[0mjob\u001b[0m \u001b[0;32min\u001b[0m \u001b[0mself\u001b[0m\u001b[0;34m.\u001b[0m\u001b[0mjobs\u001b[0m \u001b[0;32mif\u001b[0m \u001b[0mjob\u001b[0m\u001b[0;34m.\u001b[0m\u001b[0mshould_run\u001b[0m\u001b[0;34m)\u001b[0m\u001b[0;34m\u001b[0m\u001b[0;34m\u001b[0m\u001b[0m\n\u001b[1;32m     99\u001b[0m         \u001b[0;32mfor\u001b[0m \u001b[0mjob\u001b[0m \u001b[0;32min\u001b[0m \u001b[0msorted\u001b[0m\u001b[0;34m(\u001b[0m\u001b[0mrunnable_jobs\u001b[0m\u001b[0;34m)\u001b[0m\u001b[0;34m:\u001b[0m\u001b[0;34m\u001b[0m\u001b[0;34m\u001b[0m\u001b[0m\n\u001b[0;32m--> 100\u001b[0;31m             \u001b[0mself\u001b[0m\u001b[0;34m.\u001b[0m\u001b[0m_run_job\u001b[0m\u001b[0;34m(\u001b[0m\u001b[0mjob\u001b[0m\u001b[0;34m)\u001b[0m\u001b[0;34m\u001b[0m\u001b[0;34m\u001b[0m\u001b[0m\n\u001b[0m\u001b[1;32m    101\u001b[0m \u001b[0;34m\u001b[0m\u001b[0m\n\u001b[1;32m    102\u001b[0m     \u001b[0;32mdef\u001b[0m \u001b[0mrun_all\u001b[0m\u001b[0;34m(\u001b[0m\u001b[0mself\u001b[0m\u001b[0;34m,\u001b[0m \u001b[0mdelay_seconds\u001b[0m\u001b[0;34m:\u001b[0m \u001b[0mint\u001b[0m \u001b[0;34m=\u001b[0m \u001b[0;36m0\u001b[0m\u001b[0;34m)\u001b[0m \u001b[0;34m->\u001b[0m \u001b[0;32mNone\u001b[0m\u001b[0;34m:\u001b[0m\u001b[0;34m\u001b[0m\u001b[0;34m\u001b[0m\u001b[0m\n",
            "\u001b[0;32m/usr/local/lib/python3.10/dist-packages/schedule/__init__.py\u001b[0m in \u001b[0;36m_run_job\u001b[0;34m(self, job)\u001b[0m\n\u001b[1;32m    170\u001b[0m \u001b[0;34m\u001b[0m\u001b[0m\n\u001b[1;32m    171\u001b[0m     \u001b[0;32mdef\u001b[0m \u001b[0m_run_job\u001b[0m\u001b[0;34m(\u001b[0m\u001b[0mself\u001b[0m\u001b[0;34m,\u001b[0m \u001b[0mjob\u001b[0m\u001b[0;34m:\u001b[0m \u001b[0;34m\"Job\"\u001b[0m\u001b[0;34m)\u001b[0m \u001b[0;34m->\u001b[0m \u001b[0;32mNone\u001b[0m\u001b[0;34m:\u001b[0m\u001b[0;34m\u001b[0m\u001b[0;34m\u001b[0m\u001b[0m\n\u001b[0;32m--> 172\u001b[0;31m         \u001b[0mret\u001b[0m \u001b[0;34m=\u001b[0m \u001b[0mjob\u001b[0m\u001b[0;34m.\u001b[0m\u001b[0mrun\u001b[0m\u001b[0;34m(\u001b[0m\u001b[0;34m)\u001b[0m\u001b[0;34m\u001b[0m\u001b[0;34m\u001b[0m\u001b[0m\n\u001b[0m\u001b[1;32m    173\u001b[0m         \u001b[0;32mif\u001b[0m \u001b[0misinstance\u001b[0m\u001b[0;34m(\u001b[0m\u001b[0mret\u001b[0m\u001b[0;34m,\u001b[0m \u001b[0mCancelJob\u001b[0m\u001b[0;34m)\u001b[0m \u001b[0;32mor\u001b[0m \u001b[0mret\u001b[0m \u001b[0;32mis\u001b[0m \u001b[0mCancelJob\u001b[0m\u001b[0;34m:\u001b[0m\u001b[0;34m\u001b[0m\u001b[0;34m\u001b[0m\u001b[0m\n\u001b[1;32m    174\u001b[0m             \u001b[0mself\u001b[0m\u001b[0;34m.\u001b[0m\u001b[0mcancel_job\u001b[0m\u001b[0;34m(\u001b[0m\u001b[0mjob\u001b[0m\u001b[0;34m)\u001b[0m\u001b[0;34m\u001b[0m\u001b[0;34m\u001b[0m\u001b[0m\n",
            "\u001b[0;32m/usr/local/lib/python3.10/dist-packages/schedule/__init__.py\u001b[0m in \u001b[0;36mrun\u001b[0;34m(self)\u001b[0m\n\u001b[1;32m    691\u001b[0m \u001b[0;34m\u001b[0m\u001b[0m\n\u001b[1;32m    692\u001b[0m         \u001b[0mlogger\u001b[0m\u001b[0;34m.\u001b[0m\u001b[0mdebug\u001b[0m\u001b[0;34m(\u001b[0m\u001b[0;34m\"Running job %s\"\u001b[0m\u001b[0;34m,\u001b[0m \u001b[0mself\u001b[0m\u001b[0;34m)\u001b[0m\u001b[0;34m\u001b[0m\u001b[0;34m\u001b[0m\u001b[0m\n\u001b[0;32m--> 693\u001b[0;31m         \u001b[0mret\u001b[0m \u001b[0;34m=\u001b[0m \u001b[0mself\u001b[0m\u001b[0;34m.\u001b[0m\u001b[0mjob_func\u001b[0m\u001b[0;34m(\u001b[0m\u001b[0;34m)\u001b[0m\u001b[0;34m\u001b[0m\u001b[0;34m\u001b[0m\u001b[0m\n\u001b[0m\u001b[1;32m    694\u001b[0m         \u001b[0mself\u001b[0m\u001b[0;34m.\u001b[0m\u001b[0mlast_run\u001b[0m \u001b[0;34m=\u001b[0m \u001b[0mdatetime\u001b[0m\u001b[0;34m.\u001b[0m\u001b[0mdatetime\u001b[0m\u001b[0;34m.\u001b[0m\u001b[0mnow\u001b[0m\u001b[0;34m(\u001b[0m\u001b[0;34m)\u001b[0m\u001b[0;34m\u001b[0m\u001b[0;34m\u001b[0m\u001b[0m\n\u001b[1;32m    695\u001b[0m         \u001b[0mself\u001b[0m\u001b[0;34m.\u001b[0m\u001b[0m_schedule_next_run\u001b[0m\u001b[0;34m(\u001b[0m\u001b[0;34m)\u001b[0m\u001b[0;34m\u001b[0m\u001b[0;34m\u001b[0m\u001b[0m\n",
            "\u001b[0;32m<ipython-input-9-55d52461aa84>\u001b[0m in \u001b[0;36mtask\u001b[0;34m()\u001b[0m\n\u001b[1;32m     22\u001b[0m     \u001b[0;32mwhile\u001b[0m \u001b[0mdatetime\u001b[0m\u001b[0;34m.\u001b[0m\u001b[0mnow\u001b[0m\u001b[0;34m(\u001b[0m\u001b[0mtz_taipei\u001b[0m\u001b[0;34m)\u001b[0m \u001b[0;34m<\u001b[0m \u001b[0mend_time\u001b[0m\u001b[0;34m:\u001b[0m\u001b[0;34m\u001b[0m\u001b[0;34m\u001b[0m\u001b[0m\n\u001b[1;32m     23\u001b[0m         \u001b[0msend_line_notify\u001b[0m\u001b[0;34m(\u001b[0m\u001b[0mtripleStrategy\u001b[0m\u001b[0;34m(\u001b[0m\u001b[0;34m)\u001b[0m\u001b[0;34m)\u001b[0m\u001b[0;34m\u001b[0m\u001b[0;34m\u001b[0m\u001b[0m\n\u001b[0;32m---> 24\u001b[0;31m         \u001b[0mtime\u001b[0m\u001b[0;34m.\u001b[0m\u001b[0msleep\u001b[0m\u001b[0;34m(\u001b[0m\u001b[0;36m60\u001b[0m\u001b[0;34m)\u001b[0m  \u001b[0;31m# 等待一分鐘\u001b[0m\u001b[0;34m\u001b[0m\u001b[0;34m\u001b[0m\u001b[0m\n\u001b[0m\u001b[1;32m     25\u001b[0m \u001b[0;34m\u001b[0m\u001b[0m\n\u001b[1;32m     26\u001b[0m \u001b[0;31m# 設定每天台北時間早上 9:00 執行 task 函數\u001b[0m\u001b[0;34m\u001b[0m\u001b[0;34m\u001b[0m\u001b[0m\n",
            "\u001b[0;31mKeyboardInterrupt\u001b[0m: "
          ]
        }
      ],
      "source": [
        "from datetime import datetime, timedelta\n",
        "import requests\n",
        "import schedule\n",
        "import time\n",
        "import pytz\n",
        "\n",
        "# LINE Notify 的 API Token\n",
        "line_token = \"rquRjXYZzcyyRJ2hfWdIwvaEKbMWJFdCanZgyCCACYi\"\n",
        "\n",
        "def send_line_notify(message):\n",
        "    url = \"https://notify-api.line.me/api/notify\"\n",
        "    headers = {\n",
        "        \"Authorization\": \"Bearer \" + line_token\n",
        "    }\n",
        "    data = {\"message\": message}\n",
        "    response = requests.post(url, headers=headers, data=data)\n",
        "    return response\n",
        "\n",
        "def task():\n",
        "    tz_taipei = pytz.timezone('Asia/Taipei')\n",
        "    end_time = datetime.now(tz_taipei) + timedelta(hours=4, minutes=30)\n",
        "    while datetime.now(tz_taipei) < end_time:\n",
        "        send_line_notify(tripleStrategy())\n",
        "        time.sleep(60)  # 等待一分鐘\n",
        "\n",
        "# 設定每天台北時間早上 9:00 執行 task 函數\n",
        "schedule.every().day.at(\"02:02\").do(task) # 台北時間早上 9:00 對應 UTC 時間 01:00(開盤)\n",
        "\n",
        "while True:\n",
        "    schedule.run_pending()\n",
        "    time.sleep(1)\n"
      ]
    }
  ],
  "metadata": {
    "colab": {
      "provenance": [],
      "toc_visible": true
    },
    "kernelspec": {
      "display_name": "Python 3",
      "name": "python3"
    },
    "language_info": {
      "name": "python"
    }
  },
  "nbformat": 4,
  "nbformat_minor": 0
}
